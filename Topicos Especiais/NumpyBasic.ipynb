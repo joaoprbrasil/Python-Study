{
 "cells": [
  {
   "cell_type": "code",
   "execution_count": 7,
   "metadata": {},
   "outputs": [
    {
     "data": {
      "text/plain": [
       "'1.26.4'"
      ]
     },
     "execution_count": 7,
     "metadata": {},
     "output_type": "execute_result"
    }
   ],
   "source": [
    "import numpy as np\n",
    "np.version.version"
   ]
  },
  {
   "cell_type": "markdown",
   "metadata": {},
   "source": [
    "Conceitos básicos, criação e acesso a ndarrays "
   ]
  },
  {
   "cell_type": "markdown",
   "metadata": {},
   "source": [
    "np.array()"
   ]
  },
  {
   "cell_type": "code",
   "execution_count": null,
   "metadata": {},
   "outputs": [],
   "source": [
    "#Cria um array a partir de uma lista ou uma tupla\n",
    "a = np.array([1,2,3])\n",
    "# errado = np.array(1,2,3)\n",
    "print(a)\n",
    "print(a.shape)\n",
    "type(a)"
   ]
  },
  {
   "cell_type": "code",
   "execution_count": null,
   "metadata": {},
   "outputs": [],
   "source": [
    "#Cria um array a partir de outras listas do mesmo tamanho\n",
    "a = np.array([[1],[2],[3]])\n",
    "print(a)\n",
    "print(a.shape)"
   ]
  },
  {
   "cell_type": "markdown",
   "metadata": {},
   "source": [
    "np.arange(start, stop, step)"
   ]
  },
  {
   "cell_type": "code",
   "execution_count": null,
   "metadata": {},
   "outputs": [],
   "source": [
    "#Crua um ndarray de valores igualmente espaçados\n",
    "a = np.arange(12)\n",
    "print(a)\n",
    "\n",
    "a = np.arange(3,10)\n",
    "print(a)\n",
    "\n",
    "a = np.arange(0, 11, 2)\n",
    "print(a)"
   ]
  },
  {
   "cell_type": "markdown",
   "metadata": {},
   "source": [
    "np.linspace(start, stop, num)"
   ]
  },
  {
   "cell_type": "code",
   "execution_count": null,
   "metadata": {},
   "outputs": [],
   "source": [
    "a = np.linspace(5, 10, 11) #dada a quantidade '11', calcula o espaçamento\n",
    "print(f'a = {a}')\n",
    "start = 5\n",
    "stop = 10\n",
    "quantidade = 11\n",
    "print(f'espaçamento = {(stop - start) / (quantidade - 1)}')\n",
    "\n",
    "#mesmo resultado com arange() \n",
    "b = np.arange(5, 10.1, 0.5) #dado o espaçamento '0.5', calcula a quantidade\n",
    "print(f'b = {b}')\n",
    "start = 5\n",
    "stop = 10.1\n",
    "espacamento = 0.5\n",
    "print(f'quantidade = {int((stop - start) / (espacamento ) + 1)}')"
   ]
  },
  {
   "cell_type": "markdown",
   "metadata": {},
   "source": [
    "Formas Especiais\n"
   ]
  }
 ],
 "metadata": {
  "kernelspec": {
   "display_name": "Python 3",
   "language": "python",
   "name": "python3"
  },
  "language_info": {
   "codemirror_mode": {
    "name": "ipython",
    "version": 3
   },
   "file_extension": ".py",
   "mimetype": "text/x-python",
   "name": "python",
   "nbconvert_exporter": "python",
   "pygments_lexer": "ipython3",
   "version": "3.10.11"
  }
 },
 "nbformat": 4,
 "nbformat_minor": 2
}
