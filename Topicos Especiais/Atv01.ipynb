{
 "cells": [
  {
   "cell_type": "markdown",
   "id": "5d50bdba-4d4e-45ed-b997-4439d9aa8040",
   "metadata": {},
   "source": [
    "Aluno: João Pedro Ruas Brasil \n",
    "\n",
    "Matrícula: 20221SI0013\n",
    "\n",
    "Curso: Sistemas de Informação\n",
    "\n",
    "Turma: 5º Período"
   ]
  },
  {
   "cell_type": "markdown",
   "id": "1c322522",
   "metadata": {},
   "source": [
    "Questão 01\n",
    "    Defina uma lista de dicionários representando informações sobre algum problema real do seu dia a dia. Mostre 1 exemplo de filtragem desta lista da seguinte forma:\n",
    "    a. sem list comprehension\n",
    "    b. com list comprehension"
   ]
  },
  {
   "cell_type": "code",
   "execution_count": null,
   "id": "aa8d3e7b-6d0e-406e-915d-df5d19242fd4",
   "metadata": {},
   "outputs": [],
   "source": [
    "p1 = {'nome': 'Joao', 'idade': 21, 'peso': 70, 'altura': 1.74}\n",
    "p2 = {'nome': 'Pedro', 'idade': 19, 'peso': 65.5, 'altura': 1.80}\n",
    "p3 = {'nome': 'Luis', 'idade': 25, 'peso': 81.2, 'altura': 1.60}\n",
    "p4 = {'nome': 'Gabriel', 'idade': 17, 'peso': 60, 'altura': 1.70}\n",
    "pessoas = [p1,p2,p3,p4]"
   ]
  },
  {
   "cell_type": "code",
   "execution_count": null,
   "id": "43d62a2b",
   "metadata": {},
   "outputs": [],
   "source": [
    "#Sem comprehension\n",
    "for x in pessoas:\n",
    "    if x['idade'] > 18 and x['altura'] > 1.70:\n",
    "        print(x)"
   ]
  },
  {
   "cell_type": "code",
   "execution_count": null,
   "id": "8aaca78b",
   "metadata": {},
   "outputs": [],
   "source": [
    "#Com comprehension\n",
    "print([x for x in pessoas if x['idade'] > 18 and x['altura'] > 1.70])"
   ]
  },
  {
   "cell_type": "markdown",
   "id": "34b0f34a",
   "metadata": {},
   "source": [
    "Questão 02\n",
    "    Defina uma função que combina duas listas de dicionários em uma nova lista a partir de uma chave em comum no estilo Join do SQL. De exêmplos de uso de sua função. Exemplo: L1 = [{'nome':'ana','idade':19},{'nome':'daniel', 'idade':23}], L2=[{'nome':'ana','salario':2500},{'nome':'daniel', 'salario':2100}] deve resultar em uma lista L3 = [{'nome':'ana','idade':19, 'salario':2500},{'nome':'daniel', 'idade':23, 'salario':2100}]. Por exemplo:  L3 = combina_listas_dict(L1, L2). Sua função deve funcionar para qualquer exemplo, não apenas o exemplo dado aqui. "
   ]
  },
  {
   "cell_type": "code",
   "execution_count": null,
   "id": "1f4b1474",
   "metadata": {},
   "outputs": [],
   "source": [
    "#Compara apenas a primeira chave\n",
    "def combine_lists(L1, L2):\n",
    "    L3 = list(L1)\n",
    "    for i in range(min(len(L1), len(L2))):\n",
    "        dict = L1[i].copy()\n",
    "        chave, valor = next(iter(dict.items()))\n",
    "        if chave in L2[i] and L2[i][chave] == valor:\n",
    "            L3[i].update(L2[i])\n",
    "    return L3"
   ]
  },
  {
   "cell_type": "code",
   "execution_count": null,
   "id": "2e62b3d9",
   "metadata": {},
   "outputs": [],
   "source": [
    "L1 = [{'nome':'ana','idade':19},{'nome':'daniel', 'idade':23},]\n",
    "L2 = [{'nome':'ana','salario':2500},{'nome':'daniel', 'salario':2100}]\n",
    "L3 = combine_lists(L1,L2)\n",
    "L3"
   ]
  },
  {
   "cell_type": "code",
   "execution_count": null,
   "id": "cdc7f1e2",
   "metadata": {},
   "outputs": [],
   "source": [
    "lista1 = [{'id': 12345, 'nome': 'Skyrim'}, {'id': 54321, 'nome': 'Elden Ring'}, {'id': 11223, 'nome': 'CSGO'}]\n",
    "lista2 = [{'id': 12345, 'preço': 59.99}, {'id': 54321, 'preço': 259.99, 'multiplayer': 1}, {'id': 11223, 'preço': 29.99, 'multiplayer': 1}]\n",
    "print(combine_lists(lista1, lista2))"
   ]
  },
  {
   "cell_type": "markdown",
   "id": "5fa9200a",
   "metadata": {},
   "source": [
    "Questão 03\n",
    "    Seja L1 = [1,2,3,4] e L2= [1,2,3,4] avalie e justifique sua respostas para os dois casos abaixo:\n",
    "    a. L1==L2 ?\n",
    "    b. L1 is L2 ?"
   ]
  },
  {
   "cell_type": "code",
   "execution_count": null,
   "id": "817c971f",
   "metadata": {},
   "outputs": [],
   "source": [
    "L1 = [1, 2, 3, 4]\n",
    "L2 = [1, 2, 3, 4]\n",
    "print(L1==L2)\n",
    "# == compara os valores do objeto de L1 e L2 e verifica se são iguais\n",
    "# Já que os valores dos objetos são iguais, o print() retorna true\n",
    "print(L1 is L2)\n",
    "# is verifica se o endereço de L1 é o mesmo para L2\n",
    "# Já que o endereço de L1 é diferente do endereço de L2, o print() retorna False"
   ]
  },
  {
   "cell_type": "markdown",
   "id": "e9520826",
   "metadata": {},
   "source": [
    "Questão 04\n",
    "    Defina uma função que possua parâmetros identificados e outros não identificados. Mostre exemplos de sua função com variações no uso dos parâmetros."
   ]
  },
  {
   "cell_type": "code",
   "execution_count": 1,
   "id": "a16d191f",
   "metadata": {},
   "outputs": [],
   "source": [
    "# Calculo de IMC e Peso Ideal\n",
    "def calculo_peso(altura, peso, tipo='imc'):\n",
    "    if tipo == 'imc':\n",
    "        return int(peso / altura**2)\n",
    "    elif tipo == 'pi':\n",
    "        altura_polegadas = altura * 39.37\n",
    "        return 50 + 2.3 * (altura_polegadas - 60)"
   ]
  },
  {
   "cell_type": "code",
   "execution_count": 3,
   "id": "88879511",
   "metadata": {},
   "outputs": [
    {
     "name": "stdout",
     "output_type": "stream",
     "text": [
      "IMC de Joao = 23\n",
      "IMC de Joao = \n",
      "Peso ideal para Joao = 69.56kg\n",
      "IMC de Pedro = 20\n",
      "Peso ideal para Pedro = 74.99kg\n"
     ]
    }
   ],
   "source": [
    "p1 = {'nome': 'Joao', 'idade': 21, 'peso': 70, 'altura': 1.74}\n",
    "p2 = {'nome': 'Pedro', 'idade': 19, 'peso': 65.5, 'altura': 1.80}\n",
    "\n",
    "print(f\"IMC de {p1['nome']} = {calculo_peso(p1['altura'], p1['peso'])}\")\n",
    "print(f\"Peso ideal para {p1['nome']} = {calculo_peso(p1['altura'], p1['peso'], 'pi'):.2f}kg\")\n",
    "\n",
    "print(f\"IMC de {p2['nome']} = {calculo_peso(p2['altura'], p2['peso'])}\")\n",
    "print(f\"Peso ideal para {p2['nome']} = {calculo_peso(p2['altura'], p2['peso'], 'pi'):.2f}kg\")"
   ]
  },
  {
   "cell_type": "markdown",
   "id": "f907e3ad",
   "metadata": {},
   "source": [
    "Questao 05\n",
    "    Em python o laço FOR não usa índices. Como então podemos percorrer duas listas imprimindo seus elementos relacionados? Por exemplo, a lista de meses e quantidade de água da chuva precipitada (https://www.climatempo.com.br/climatologia/94/saoluis-ma).  Exemplo: meses = ['jan', 'fev', 'mar',... ,'nov', 'dez'] e precipitacao = [244, 373, 428, ..., 11, 77]."
   ]
  },
  {
   "cell_type": "code",
   "execution_count": null,
   "id": "7fe63730",
   "metadata": {},
   "outputs": [],
   "source": [
    "meses = ['jan', 'fev', 'mar', 'abr', 'mai', 'jun', 'jul', 'ago', 'set', 'out' ,'nov', 'dez']\n",
    "precipitacao = [245, 309, 449, 419, 319, 172, 115, 35, 17, 16, 27, 103]\n",
    "\n",
    "#usando a função range para criar um iterador\n",
    "for x in range(len(meses)):\n",
    "    print(f\"{meses[x]} -> Precipitação {precipitacao[x]}\")"
   ]
  },
  {
   "cell_type": "markdown",
   "id": "3d4fb1c9",
   "metadata": {},
   "source": [
    "Questão 06\n",
    "    Escreva uma função que devolva a multiplicação escalar de dois vetores informados em forma de duas listas. De exemplos de uso. Não use numpy. Somente python básico. Mostre exemplos de utilização."
   ]
  },
  {
   "cell_type": "code",
   "execution_count": null,
   "id": "96d136f2",
   "metadata": {},
   "outputs": [],
   "source": [
    "def mulEscalar(array, array2):\n",
    "    vetor = array.copy()\n",
    "    vetor2 = array2.copy()\n",
    "    if(len(vetor)!=len(vetor2)):\n",
    "        print(\"Os vetores devem ter o mesmo tamanho.\")\n",
    "        return 0\n",
    "    for i in range(len(vetor)):\n",
    "        vetor[i] *= vetor2[i]\n",
    "    return vetor"
   ]
  },
  {
   "cell_type": "code",
   "execution_count": null,
   "id": "7d375c9d",
   "metadata": {},
   "outputs": [],
   "source": [
    "vetor = list(range(1, 11, 1))\n",
    "vetor2 = list(range(10, 101, 10))\n",
    "\n",
    "vetor3 = list(range(5, 51, 5))\n",
    "vetor4 = list(range(1, 1000, 1))\n",
    "\n",
    "print(mulEscalar(vetor, vetor2))\n",
    "\n",
    "print(mulEscalar(vetor, vetor3))\n",
    "\n",
    "print(mulEscalar(mulEscalar(vetor, vetor3), mulEscalar(vetor3, vetor2)))\n",
    "\n",
    "print(mulEscalar(vetor4, vetor2))\n",
    "\n",
    "\n"
   ]
  }
 ],
 "metadata": {
  "kernelspec": {
   "display_name": "Python 3 (ipykernel)",
   "language": "python",
   "name": "python3"
  },
  "language_info": {
   "codemirror_mode": {
    "name": "ipython",
    "version": 3
   },
   "file_extension": ".py",
   "mimetype": "text/x-python",
   "name": "python",
   "nbconvert_exporter": "python",
   "pygments_lexer": "ipython3",
   "version": "3.12.2"
  }
 },
 "nbformat": 4,
 "nbformat_minor": 5
}
