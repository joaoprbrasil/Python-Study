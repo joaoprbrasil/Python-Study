{
 "cells": [
  {
   "cell_type": "code",
   "execution_count": null,
   "metadata": {},
   "outputs": [],
   "source": [
    "# Python does not have a character data type only strings with lenght 1\n",
    "var_char = 'a'\n",
    "var_string = 'abcd'\n",
    "var_string = \"abcd\"\n",
    "var_string = \"\"\"abcd\"\"\"\n",
    "\n",
    "print(var_string[0])\n",
    "print(var_string)\n",
    "\n",
    "# Strings are immutable, they cannot be changed after they are create\n",
    "# This is wrong: var_string[0] = 'b'"
   ]
  },
  {
   "cell_type": "code",
   "execution_count": 13,
   "metadata": {},
   "outputs": [
    {
     "name": "stdout",
     "output_type": "stream",
     "text": [
      "helloworld\n",
      "hellohellohellohellohello\n"
     ]
    }
   ],
   "source": [
    "word = 'hello'\n",
    "word2 = 'world'\n",
    "print(word + ' ' + word2)\n",
    "print(word * 5)"
   ]
  },
  {
   "cell_type": "code",
   "execution_count": null,
   "metadata": {},
   "outputs": [],
   "source": [
    "# Segmentation\n",
    "print(word.split('e'))"
   ]
  },
  {
   "cell_type": "code",
   "execution_count": null,
   "metadata": {},
   "outputs": [],
   "source": [
    "# Replace \n",
    "print(word.replace('h', 'H'))"
   ]
  },
  {
   "cell_type": "code",
   "execution_count": 15,
   "metadata": {},
   "outputs": [
    {
     "name": "stdout",
     "output_type": "stream",
     "text": [
      "HELLO\n",
      "hello\n"
     ]
    }
   ],
   "source": [
    "# Uppercase and Lowercase\n",
    "print(word.upper())\n",
    "print(word.lower())"
   ]
  },
  {
   "cell_type": "code",
   "execution_count": 18,
   "metadata": {},
   "outputs": [
    {
     "name": "stdout",
     "output_type": "stream",
     "text": [
      "h e l l o\n",
      "h.e.l.l.o\n",
      "whelloohellorhellolhellod\n"
     ]
    }
   ],
   "source": [
    "# Stitching = Costura\n",
    "print(\" \".join(word))\n",
    "print(\".\".join(word))\n",
    "print(word.join(word2))"
   ]
  },
  {
   "cell_type": "code",
   "execution_count": 25,
   "metadata": {},
   "outputs": [
    {
     "name": "stdout",
     "output_type": "stream",
     "text": [
      "My name is João, age is 22\n",
      "My name is João, age is 22\n"
     ]
    }
   ],
   "source": [
    "# Formatted output\n",
    "print('My name is %s, age is %d' %('João', 22))\n",
    "\n",
    "name = 'João'\n",
    "age = 22\n",
    "print(f'My name is {name}, age is {age}')"
   ]
  }
 ],
 "metadata": {
  "kernelspec": {
   "display_name": "Python 3",
   "language": "python",
   "name": "python3"
  },
  "language_info": {
   "codemirror_mode": {
    "name": "ipython",
    "version": 3
   },
   "file_extension": ".py",
   "mimetype": "text/x-python",
   "name": "python",
   "nbconvert_exporter": "python",
   "pygments_lexer": "ipython3",
   "version": "3.12.2"
  }
 },
 "nbformat": 4,
 "nbformat_minor": 2
}
