{
 "cells": [
  {
   "cell_type": "markdown",
   "metadata": {},
   "source": [
    "List"
   ]
  },
  {
   "cell_type": "code",
   "execution_count": 107,
   "metadata": {},
   "outputs": [
    {
     "name": "stdout",
     "output_type": "stream",
     "text": [
      "[1, 2, 3, 4, 5, 6]\n",
      "[1, 2, 3, 1, 2, 3, 1, 2, 3, 1, 2, 3]\n",
      "True\n",
      "False\n",
      "True\n"
     ]
    }
   ],
   "source": [
    "# You can create a list in either of the following ways:\n",
    "List1 = list([1,2,3])\n",
    "List2 = [4,5,6]\n",
    "\n",
    "# '+' combine lists\n",
    "print(List1 + List2)\n",
    "\n",
    "# '*' Multiplies a list by a number to obtain a new list\n",
    "print(List1 * 4)\n",
    "\n",
    "# Verifies if the value is in the list\n",
    "print(3 in List1)\n",
    "print(100 in List1)\n",
    "print(200 not in List1)"
   ]
  },
  {
   "cell_type": "code",
   "execution_count": null,
   "metadata": {},
   "outputs": [],
   "source": [
    "# Common operations on lists\n",
    "# Add\n",
    "List2 = [0]\n",
    "List2.append(10) # Adds to the end of the list\n",
    "print(List2)\n",
    "\n",
    "List2.insert(0, 20) # Inserts to the index position\n",
    "print(List2)\n",
    "\n",
    "List2.extend([30, 40]) # Inserts each element of an iterable objet into end of a list\n",
    "print(List2)"
   ]
  },
  {
   "cell_type": "code",
   "execution_count": null,
   "metadata": {},
   "outputs": [],
   "source": [
    "# Delete\n",
    "List1 = [5,10,13]\n",
    "\n",
    "element_pop = List1.pop(2) \n",
    "# deletes the element from index and returns him\n",
    "# print(element_pop)\n",
    "print(List1)\n",
    "\n",
    "List1.pop()\n",
    "# if no parameter is passe, the last element is deleted\n",
    "print(List1)\n",
    "\n",
    "List1.remove(5)\n",
    "# deletes the first given element in the list\n",
    "print(List1)\n",
    "\n"
   ]
  },
  {
   "cell_type": "code",
   "execution_count": null,
   "metadata": {},
   "outputs": [],
   "source": [
    "# Search\n",
    "List1 = [10,20,10]\n",
    "\n",
    "index_num = List1.index(10)\n",
    "# returns the index of the first occurrence of a given element\n",
    "print(index_num)"
   ]
  },
  {
   "cell_type": "code",
   "execution_count": null,
   "metadata": {},
   "outputs": [],
   "source": [
    "# Sort\n",
    "List1 = [5,4,2,1,3]\n",
    "\n",
    "List1.sort() # sorts the list\n",
    "print(List1)"
   ]
  },
  {
   "cell_type": "code",
   "execution_count": null,
   "metadata": {},
   "outputs": [],
   "source": [
    "# Reverse\n",
    "List1 = [1,2,3,4,5]\n",
    "\n",
    "List1.reverse() # reverses the elements in the list\n",
    "print(List1)"
   ]
  },
  {
   "cell_type": "code",
   "execution_count": null,
   "metadata": {},
   "outputs": [],
   "source": [
    "# Count \n",
    "List1 = [1, 2, 3, 2, 2]\n",
    "\n",
    "con = List1.count(2) # returns the count of occurrences of a given element\n",
    "print(con)"
   ]
  },
  {
   "cell_type": "markdown",
   "metadata": {},
   "source": [
    "Tuple"
   ]
  },
  {
   "cell_type": "code",
   "execution_count": null,
   "metadata": {},
   "outputs": [],
   "source": [
    "# A tuple is a sequence in which elements can be of any data type.\n",
    "# Data stored in tuples is of higher security than that on lists.\n",
    "\n",
    "# You can create a tuple in either of the following ways:\n",
    "t1 = tuple(('a', 1, 2.5, 'bcd'))\n",
    "t1 = ('a', 1, 2, 'b')\n",
    "t1 = 'a', 1, 2, 'b'\n",
    "\n",
    "# If a tuple has only one element when it is created, a comma must\n",
    "# be added to the end of the element to tell the interpreter that \n",
    "# this is not a parenthesis of the operator.\n",
    "t1 = ('a',)\n",
    "t1 = 'a',\n",
    "type(t1)\n",
    "\n",
    "#dir(tuple)"
   ]
  },
  {
   "cell_type": "code",
   "execution_count": null,
   "metadata": {},
   "outputs": [],
   "source": [
    "t1 = 1,2,3,4\n",
    "t1 += 5,\n",
    "print(t1)\n",
    "\n",
    "# different from lists, tuples only have the methods index() and count().\n",
    "t1 += 2,2\n",
    "print(t1)\n",
    "print(t1.count(2))\n",
    "\n",
    "print(t1.index(5))\n"
   ]
  },
  {
   "cell_type": "markdown",
   "metadata": {},
   "source": [
    "Dictionary"
   ]
  },
  {
   "cell_type": "code",
   "execution_count": null,
   "metadata": {},
   "outputs": [],
   "source": [
    "# You can create a dictionary in either of the following ways:\n",
    "d1 = {}\n",
    "d1 = {'a':1,'b':2}"
   ]
  },
  {
   "cell_type": "code",
   "execution_count": null,
   "metadata": {},
   "outputs": [],
   "source": [
    "# Acquisition\n",
    "d1 = {'a':1,'b':2}\n",
    "\n",
    "# get() obtains the value based on the key\n",
    "print(d1.get('a'))\n",
    "print(d1.get('c'))\n",
    "\n",
    "# items() returns a list of all (key, value) tuples\n",
    "print(d1.items())\n",
    "\n",
    "# keys() returns a list of all keys\n",
    "print(d1.keys())\n",
    "\n",
    "# values() returns a list of all values\n",
    "print(d1.values())"
   ]
  },
  {
   "cell_type": "code",
   "execution_count": 94,
   "metadata": {},
   "outputs": [
    {
     "name": "stdout",
     "output_type": "stream",
     "text": [
      "{'a': 5, 'b': 2}\n"
     ]
    }
   ],
   "source": [
    "# Add a member drive\n",
    "d1 = {'a':1,'b':2}\n",
    "\n",
    "# adds the key-value pair {key:value}. If the key already exists, change the value\n",
    "# of the existing key.\n",
    "d1['a'] = 5\n",
    "print(d1)"
   ]
  },
  {
   "cell_type": "code",
   "execution_count": 96,
   "metadata": {},
   "outputs": [
    {
     "name": "stdout",
     "output_type": "stream",
     "text": [
      "{'a': 3, 'b': 2, 'c': 5}\n"
     ]
    }
   ],
   "source": [
    "# Update\n",
    "d1 = {'a':1,'b':2}\n",
    "d2 = {'a':3,'c':5}\n",
    "\n",
    "d1.update(d2) # uses dict1 to update the dictionary\n",
    "print(d1)"
   ]
  },
  {
   "cell_type": "code",
   "execution_count": 106,
   "metadata": {},
   "outputs": [
    {
     "name": "stdout",
     "output_type": "stream",
     "text": [
      "{'a': 1, 'b': 2, 'c': 3} 4\n",
      "{'a': 1, 'b': 2} ('c', 3)\n",
      "{}\n"
     ]
    }
   ],
   "source": [
    "# Delete\n",
    "d1 = {'a':1,'b':2,'c':3,'d':4}\n",
    "\n",
    "value = d1.pop('d') # deletes and returns the value of the key.\n",
    "print(d1, value)\n",
    "\n",
    "# d1.pop() pop expected at least 1 argument\n",
    "\n",
    "value = d1.popitem()\n",
    "print(d1, value)\n",
    "\n",
    "d1.clear()\n",
    "print(d1)"
   ]
  },
  {
   "cell_type": "markdown",
   "metadata": {},
   "source": [
    "Set "
   ]
  }
 ],
 "metadata": {
  "kernelspec": {
   "display_name": "Python 3",
   "language": "python",
   "name": "python3"
  },
  "language_info": {
   "codemirror_mode": {
    "name": "ipython",
    "version": 3
   },
   "file_extension": ".py",
   "mimetype": "text/x-python",
   "name": "python",
   "nbconvert_exporter": "python",
   "pygments_lexer": "ipython3",
   "version": "3.12.2"
  }
 },
 "nbformat": 4,
 "nbformat_minor": 2
}
